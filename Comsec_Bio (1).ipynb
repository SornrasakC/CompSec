{
 "cells": [
  {
   "cell_type": "code",
   "execution_count": 1,
   "id": "fd6e42ce",
   "metadata": {},
   "outputs": [
    {
     "name": "stdout",
     "output_type": "stream",
     "text": [
      "Collecting pyWinhook\n",
      "  Using cached pyWinhook-1.6.2-cp38-cp38-win_amd64.whl (30 kB)\n",
      "Requirement already satisfied: pywin32 in d:\\study\\4thyear_1stterm\\comp sec\\biometric\\venv\\lib\\site-packages (from pyWinhook) (302)\n",
      "Installing collected packages: pyWinhook\n",
      "Successfully installed pyWinhook-1.6.2\n"
     ]
    },
    {
     "name": "stderr",
     "output_type": "stream",
     "text": [
      "WARNING: You are using pip version 21.1.1; however, version 21.3.1 is available.\n",
      "You should consider upgrading via the 'd:\\study\\4thyear_1stterm\\comp sec\\biometric\\venv\\scripts\\python.exe -m pip install --upgrade pip' command.\n"
     ]
    }
   ],
   "source": [
    "# !pip install wheel\n",
    "!pip install pyWinhook"
   ]
  },
  {
   "cell_type": "code",
   "execution_count": 12,
   "id": "c0df6c3e",
   "metadata": {},
   "outputs": [
    {
     "name": "stdout",
     "output_type": "stream",
     "text": [
      "Requirement already satisfied: pandas in d:\\study\\4thyear_1stterm\\comp sec\\biometric\\venv\\lib\\site-packages (1.3.4)\n"
     ]
    },
    {
     "name": "stderr",
     "output_type": "stream",
     "text": [
      "WARNING: You are using pip version 21.1.1; however, version 21.3.1 is available.\n",
      "You should consider upgrading via the 'd:\\study\\4thyear_1stterm\\comp sec\\biometric\\venv\\scripts\\python.exe -m pip install --upgrade pip' command.\n"
     ]
    },
    {
     "name": "stdout",
     "output_type": "stream",
     "text": [
      "Requirement already satisfied: numpy>=1.17.3 in d:\\study\\4thyear_1stterm\\comp sec\\biometric\\venv\\lib\\site-packages (from pandas) (1.21.3)\n",
      "Requirement already satisfied: python-dateutil>=2.7.3 in d:\\study\\4thyear_1stterm\\comp sec\\biometric\\venv\\lib\\site-packages (from pandas) (2.8.2)\n",
      "Requirement already satisfied: pytz>=2017.3 in d:\\study\\4thyear_1stterm\\comp sec\\biometric\\venv\\lib\\site-packages (from pandas) (2021.3)\n",
      "Requirement already satisfied: six>=1.5 in d:\\study\\4thyear_1stterm\\comp sec\\biometric\\venv\\lib\\site-packages (from python-dateutil>=2.7.3->pandas) (1.16.0)\n",
      "Requirement already satisfied: scipy in d:\\study\\4thyear_1stterm\\comp sec\\biometric\\venv\\lib\\site-packages (1.7.1)"
     ]
    },
    {
     "name": "stderr",
     "output_type": "stream",
     "text": [
      "WARNING: You are using pip version 21.1.1; however, version 21.3.1 is available.\n",
      "You should consider upgrading via the 'd:\\study\\4thyear_1stterm\\comp sec\\biometric\\venv\\scripts\\python.exe -m pip install --upgrade pip' command.\n"
     ]
    },
    {
     "name": "stdout",
     "output_type": "stream",
     "text": [
      "\n",
      "Requirement already satisfied: numpy<1.23.0,>=1.16.5 in d:\\study\\4thyear_1stterm\\comp sec\\biometric\\venv\\lib\\site-packages (from scipy) (1.21.3)\n",
      "Collecting sklearn\n",
      "  Using cached sklearn-0.0.tar.gz (1.1 kB)\n",
      "Collecting scikit-learn\n",
      "  Downloading scikit_learn-1.0-cp38-cp38-win_amd64.whl (7.2 MB)\n",
      "Requirement already satisfied: numpy>=1.14.6 in d:\\study\\4thyear_1stterm\\comp sec\\biometric\\venv\\lib\\site-packages (from scikit-learn->sklearn) (1.21.3)\n",
      "Collecting joblib>=0.11\n",
      "  Downloading joblib-1.1.0-py2.py3-none-any.whl (306 kB)\n",
      "Collecting threadpoolctl>=2.0.0\n",
      "  Downloading threadpoolctl-3.0.0-py3-none-any.whl (14 kB)\n",
      "Requirement already satisfied: scipy>=1.1.0 in d:\\study\\4thyear_1stterm\\comp sec\\biometric\\venv\\lib\\site-packages (from scikit-learn->sklearn) (1.7.1)\n",
      "Using legacy 'setup.py install' for sklearn, since package 'wheel' is not installed.\n",
      "Installing collected packages: threadpoolctl, joblib, scikit-learn, sklearn\n",
      "    Running setup.py install for sklearn: started\n",
      "    Running setup.py install for sklearn: finished with status 'done'\n",
      "Successfully installed joblib-1.1.0 scikit-learn-1.0 sklearn-0.0 threadpoolctl-3.0.0\n"
     ]
    },
    {
     "name": "stderr",
     "output_type": "stream",
     "text": [
      "WARNING: You are using pip version 21.1.1; however, version 21.3.1 is available.\n",
      "You should consider upgrading via the 'd:\\study\\4thyear_1stterm\\comp sec\\biometric\\venv\\scripts\\python.exe -m pip install --upgrade pip' command.\n"
     ]
    }
   ],
   "source": [
    "!pip install pandas\n",
    "!pip install scipy\n",
    "!pip install sklearn"
   ]
  },
  {
   "cell_type": "code",
   "execution_count": 6,
   "id": "94c72513",
   "metadata": {},
   "outputs": [],
   "source": [
    "import pyWinhook as pyHook\n",
    "import pythoncom\n",
    "import os\n",
    "# import matplotlib.pyplot as plt\n",
    "import json\n",
    "import numpy as np\n",
    "import sys\n",
    "import pandas as pd\n",
    "from IPython.display import clear_output\n",
    "import csv"
   ]
  },
  {
   "cell_type": "code",
   "execution_count": 7,
   "id": "5c3ea252",
   "metadata": {},
   "outputs": [],
   "source": [
    "global userName\n",
    "userFilePath = \"Collecting_keyStorke.csv\""
   ]
  },
  {
   "cell_type": "code",
   "execution_count": 62,
   "id": "96664f01",
   "metadata": {},
   "outputs": [
    {
     "name": "stdout",
     "output_type": "stream",
     "text": [
      "Enter your Name: TestBoi\n",
      "Enter your text: \n",
      "smoky the fire waffle bear\n",
      "ouput\n",
      "[('TestBoi', 13, 'Up', 17960140), ('TestBoi', 115, 'Down', 17961375), ('TestBoi', 115, 'Up', 17961453), ('TestBoi', 109, 'Down', 17961546), ('TestBoi', 111, 'Down', 17961625), ('TestBoi', 109, 'Up', 17961656), ('TestBoi', 111, 'Up', 17961703), ('TestBoi', 107, 'Down', 17962171), ('TestBoi', 107, 'Up', 17962250), ('TestBoi', 121, 'Down', 17962359), ('TestBoi', 121, 'Up', 17962437), ('TestBoi', 32, 'Down', 17962562), ('TestBoi', 32, 'Up', 17962656), ('TestBoi', 116, 'Down', 17962765), ('TestBoi', 116, 'Up', 17962843), ('TestBoi', 104, 'Down', 17962984), ('TestBoi', 104, 'Up', 17963046), ('TestBoi', 101, 'Down', 17963109), ('TestBoi', 101, 'Up', 17963203), ('TestBoi', 32, 'Down', 17963281), ('TestBoi', 32, 'Up', 17963359), ('TestBoi', 102, 'Down', 17963468), ('TestBoi', 102, 'Up', 17963562), ('TestBoi', 105, 'Down', 17963593), ('TestBoi', 105, 'Up', 17963671), ('TestBoi', 114, 'Down', 17963703), ('TestBoi', 101, 'Down', 17963765), ('TestBoi', 114, 'Up', 17963812), ('TestBoi', 101, 'Up', 17963875), ('TestBoi', 32, 'Down', 17963906), ('TestBoi', 32, 'Up', 17964015), ('TestBoi', 119, 'Down', 17964031), ('TestBoi', 97, 'Down', 17964140), ('TestBoi', 119, 'Up', 17964140), ('TestBoi', 97, 'Up', 17964218), ('TestBoi', 102, 'Down', 17964656), ('TestBoi', 102, 'Up', 17964734), ('TestBoi', 102, 'Down', 17964828), ('TestBoi', 102, 'Up', 17964921), ('TestBoi', 108, 'Down', 17964984), ('TestBoi', 108, 'Up', 17965062), ('TestBoi', 101, 'Down', 17965828), ('TestBoi', 101, 'Up', 17965937), ('TestBoi', 32, 'Down', 17966031), ('TestBoi', 32, 'Up', 17966125), ('TestBoi', 98, 'Down', 17966343), ('TestBoi', 98, 'Up', 17966421), ('TestBoi', 101, 'Down', 17966531), ('TestBoi', 101, 'Up', 17966671), ('TestBoi', 97, 'Down', 17966687), ('TestBoi', 97, 'Up', 17966812), ('TestBoi', 114, 'Down', 17966812), ('TestBoi', 114, 'Up', 17966906), ('TestBoi', 27, 'Down', 17968000)]\n"
     ]
    }
   ],
   "source": [
    "class KeyLogger:\n",
    "    def __init__(self):\n",
    "        self.enterPressed = False\n",
    "        self.eventList = []\n",
    "        self.isCaps = False\n",
    "        #self.message = \"\"\n",
    "        \n",
    "    def keyDownEvent(self, event):\n",
    "        if event.KeyID == 20 and self.isCaps == False:\n",
    "            self.isCaps = True\n",
    "        elif event.KeyID == 20 and self.isCaps == True:\n",
    "            self.isCaps = False     \n",
    "        if event.KeyID>= 48 and event.KeyID<=57:\n",
    "            event.Ascii = event.KeyID\n",
    "        if self.isCaps == True and event.Ascii>=97 and event.Ascii<=122:\n",
    "            event.Ascii = event.KeyID\n",
    "        self.storeEvent(\"Down\", event) \n",
    "        return True\n",
    "        # Fixes Requires Integer Bug (Got Nonetype)\n",
    "\n",
    "    def keyUpEvent(self, event): \n",
    "        if event.KeyID>= 48 and event.KeyID<=57:\n",
    "            event.Ascii = event.KeyID\n",
    "        if self.isCaps == True and event.Ascii>=97 and event.Ascii<=122:\n",
    "            event.Ascii = event.KeyID\n",
    "        print(chr(event.Ascii),end='')\n",
    "        self.storeEvent(\"Up\", event)\n",
    "        return True\n",
    "\n",
    "    def mainLoop(self):\n",
    "        while not self.enterPressed:\n",
    "            pythoncom.PumpWaitingMessages()\n",
    "\n",
    "    def storeEvent(self, activity, event):\n",
    "        keystrokeTime = int(event.Time)\n",
    "        self.eventList.append ((userName,event.Ascii,activity, int(keystrokeTime)))\n",
    "\n",
    "        # Chosen to use Escape key (ESC) due to input using a similar method\n",
    "        # Enter Key - KeyCode: 13 Ascii: 13 ScanCode: 28 - ESC = 27 @ Ascii\n",
    "        if event.Ascii == 27:\n",
    "            self.enterPressed = True\n",
    "            userRecordData(self.eventList)\n",
    "\n",
    "def userRecordData(eventList):\n",
    "    print(\"\\nouput\")\n",
    "    print(eventList)\n",
    "    with open(userFilePath,'w',newline='\\n') as f:\n",
    "        writer = csv.writer(f)\n",
    "        writer.writerow(['user', 'key', 'keyEvent', 'Time'])\n",
    "        writer.writerows(eventList)\n",
    "    f.close()   \n",
    "    \n",
    "def getUserName():\n",
    "    global userName\n",
    "    userName = input(\"Enter your Name: \")\n",
    "\n",
    "def getKeyStroke():\n",
    "    \n",
    "    keyLogger = KeyLogger()\n",
    "    hookManager = pyHook.HookManager()\n",
    "    hookManager.KeyDown = keyLogger.keyDownEvent\n",
    "    hookManager.KeyUp = keyLogger.keyUpEvent\n",
    "    hookManager.HookKeyboard()\n",
    "\n",
    "    keyLogger.mainLoop()\n",
    "    # Unhooks the keyboard, no more data recorded, returns to menu\n",
    "    hookManager.UnhookKeyboard()\n",
    "    \n",
    "getUserName()\n",
    "print(\"Enter your text: \")\n",
    "getKeyStroke()"
   ]
  },
  {
   "cell_type": "code",
   "execution_count": 19,
   "id": "de02b581",
   "metadata": {},
   "outputs": [],
   "source": [
    "import pandas as pd\n",
    "import numpy as np\n",
    "import csv\n",
    "from scipy.spatial.distance import cityblock\n",
    "from sklearn.metrics import roc_curve"
   ]
  },
  {
   "cell_type": "code",
   "execution_count": 63,
   "id": "fec95312",
   "metadata": {},
   "outputs": [
    {
     "name": "stdout",
     "output_type": "stream",
     "text": [
      "Empty DataFrame\n",
      "Columns: [subject, key, DD]\n",
      "Index: []\n"
     ]
    }
   ],
   "source": [
    "data = pd.read_csv(\"Collecting_keyStorke.csv\")\n",
    "userList = data.user.unique()\n",
    "keyList = data.key.unique()\n",
    "df = pd.DataFrame(columns=['subject','key','DD'])\n",
    "for i in range(0, len(userList)):\n",
    "    for j in range(0,len(keyList)):\n",
    "        queryData = data.query(\"user=='\" +userList[i]+ \"' and key==\" + str(keyList[j]) + \" and key >=33 and key<=122\")\n",
    "        queryLen = len(queryData)\n",
    "        finalData = {}\n",
    "        if queryLen > 0:\n",
    "            if(queryLen > 2):\n",
    "                for k in range(0,queryLen,2):\n",
    "                    finalData['subject'] = userList[i]\n",
    "                    keyUpIndex = queryData.iloc[k+1].name\n",
    "                    finalData['key'] = chr(keyList[j]) + ' ' + chr(keyList[j + 1])\n",
    "                    if(data.iloc[keyUpIndex + 1].user == userList[i]):\n",
    "                        finalData['DD'] = (int(data.iloc[keyUpIndex+1].Time) - int(queryData.iloc[k].Time))/1000\n",
    "                    df = df.append(finalData,ignore_index=True )\n",
    "            else:\n",
    "                finalData['subject'] = userList[i]\n",
    "                keyUpIndex = queryData.query(\"keyEvent=='Up'\").index[0]\n",
    "                finalData['key'] = chr(keyList[j]) + ' ' + chr(keyList[j + 1])\n",
    "                if(data.iloc[keyUpIndex + 1].user == userList[i]):\n",
    "                        finalData['DD'] = (int(data.iloc[keyUpIndex+1].Time) - int( queryData.query(\"keyEvent=='Down'\").Time))/1000\n",
    "                df = df.append(finalData,ignore_index=True )\n",
    "            \n",
    "           \n",
    "                \n",
    "f = open(\"KeyStrokeDistance.csv\", 'a', newline='\\n')\n",
    "writer = csv.writer(f)\n",
    "groupedDf = df.groupby(['subject','key']).mean().reset_index()\n",
    "# writer.writerow(['subject','key','DD'])\n",
    "for row in groupedDf.iterrows():\n",
    "#     print(row[1])\n",
    "    writer.writerow(row[1])\n",
    "    \n",
    "f.close()\n",
    "print(groupedDf[groupedDf.subject == 'John'])"
   ]
  },
  {
   "cell_type": "code",
   "execution_count": 64,
   "id": "ef51b907",
   "metadata": {},
   "outputs": [],
   "source": [
    "groupedDf.pivot(index=\"subject\", columns=\"key\", values=\"DD\").to_csv('pivoted.csv')"
   ]
  },
  {
   "cell_type": "code",
   "execution_count": 37,
   "id": "2ad31665",
   "metadata": {},
   "outputs": [],
   "source": [
    "import pandas as pd\n",
    "import numpy as np\n",
    "import matplotlib.pyplot as plt\n",
    "from sklearn.model_selection import train_test_split\n",
    "from sklearn.model_selection import GridSearchCV\n",
    "from sklearn.neighbors import KNeighborsClassifier"
   ]
  },
  {
   "cell_type": "code",
   "execution_count": null,
   "id": "58f4dd97",
   "metadata": {},
   "outputs": [],
   "source": [
    "def load_data(file_name, col_to_remove):\n",
    "    df = pd.read_csv(file_name)\n",
    "\n",
    "    DD_columns = [col for col in df.columns if col.startswith('DD')]\n",
    "\n",
    "    data = {}\n",
    "    data['total'] = df.drop(columns=col_to_remove)\n",
    "    data['DD']    = df[DD_columns]\n",
    "    data['pca3']  = pd.DataFrame(PCA(n_components=3).fit_transform(data['total']))\n",
    "   # data['pca10'] = pd.DataFrame(PCA(n_components=10).fit_transform(data['total']))\n",
    "    \n",
    "    return data, df['subject'].values\n",
    "\n",
    "def calculate_KMeans(data,y):\n",
    "    X = data['total']\n",
    "    X_train, X_test, Y_train, Y_test = train_test_split(X, Y, test_size=0.2, random_state=1, stratify=y)\n",
    "    n_neighbors = [2, 3, 4, 5, 6, 7, 8, 9, 10]\n",
    "    parameters = dict(n_neighbors=n_neighbors)\n",
    "    clf = KNeighborsClassifier()\n",
    "    grid = GridSearchCV(clf, parameters, cv=5)\n",
    "    grid.fit(X_train, Y_train)\n",
    "    results = grid.cv_results_\n",
    "\n",
    "    Y_pred = grid.predict(X_test)\n",
    "\n",
    "    fpr, tpr, threshold = roc_curve(Y_test.ravel(), Y_pred.ravel())\n",
    "\n",
    "    return fpr, tpr, threshold"
   ]
  },
  {
   "cell_type": "code",
   "execution_count": 57,
   "id": "57f1ede1",
   "metadata": {},
   "outputs": [
    {
     "data": {
      "text/plain": [
       "KNeighborsClassifier(n_neighbors=1)"
      ]
     },
     "execution_count": 57,
     "metadata": {},
     "output_type": "execute_result"
    }
   ],
   "source": [
    "df = pd.read_csv('pivoted copy.csv')\n",
    "clf = KNeighborsClassifier(n_neighbors=1)\n",
    "clf.fit(df[df.columns[1:]].to_numpy(), [7, 13])"
   ]
  },
  {
   "cell_type": "code",
   "execution_count": 65,
   "id": "5058dfb9",
   "metadata": {},
   "outputs": [
    {
     "data": {
      "text/plain": [
       "array([7])"
      ]
     },
     "execution_count": 65,
     "metadata": {},
     "output_type": "execute_result"
    }
   ],
   "source": [
    "df = pd.read_csv('pivoted.csv')\n",
    "inp = df[df.columns[1:]].to_numpy()[0]\n",
    "clf.predict([inp])"
   ]
  },
  {
   "cell_type": "code",
   "execution_count": 54,
   "id": "6952b0f6",
   "metadata": {},
   "outputs": [
    {
     "data": {
      "text/plain": [
       "array([0.2575    , 0.109     , 0.2265    , 0.18733333, 0.109     ,\n",
       "       0.11      , 0.141     , 0.516     , 0.172     , 0.484     ,\n",
       "       0.5545    , 0.281     , 0.219     , 0.218     , 0.515     ])"
      ]
     },
     "execution_count": 54,
     "metadata": {},
     "output_type": "execute_result"
    }
   ],
   "source": []
  }
 ],
 "metadata": {
  "kernelspec": {
   "display_name": "Python 3 (ipykernel)",
   "language": "python",
   "name": "python3"
  },
  "language_info": {
   "codemirror_mode": {
    "name": "ipython",
    "version": 3
   },
   "file_extension": ".py",
   "mimetype": "text/x-python",
   "name": "python",
   "nbconvert_exporter": "python",
   "pygments_lexer": "ipython3",
   "version": "3.8.10"
  }
 },
 "nbformat": 4,
 "nbformat_minor": 5
}
